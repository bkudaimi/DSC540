{
 "cells": [
  {
   "cell_type": "code",
   "execution_count": 1,
   "metadata": {},
   "outputs": [],
   "source": [
    "'''\n",
    "Activity 5\n",
    "'''\n",
    "\n",
    "#Loading the necessary libraries\n",
    "import matplotlib.pyplot as plt\n",
    "import numpy as np\n",
    "import pandas as pd\n",
    "\n",
    "#Reading the Boston housing data frame\n",
    "boston_df = pd.read_csv('Boston_housing.csv')\n",
    "\n"
   ]
  },
  {
   "cell_type": "code",
   "execution_count": 2,
   "metadata": {},
   "outputs": [
    {
     "data": {
      "text/plain": [
       "(506, 14)"
      ]
     },
     "execution_count": 2,
     "metadata": {},
     "output_type": "execute_result"
    }
   ],
   "source": [
    "#Checking the first 10 records with head() then getting the total number of records\n",
    "boston_df.head(10)\n",
    "boston_df.shape"
   ]
  },
  {
   "cell_type": "code",
   "execution_count": 3,
   "metadata": {},
   "outputs": [
    {
     "data": {
      "text/html": [
       "<div>\n",
       "<style scoped>\n",
       "    .dataframe tbody tr th:only-of-type {\n",
       "        vertical-align: middle;\n",
       "    }\n",
       "\n",
       "    .dataframe tbody tr th {\n",
       "        vertical-align: top;\n",
       "    }\n",
       "\n",
       "    .dataframe thead th {\n",
       "        text-align: right;\n",
       "    }\n",
       "</style>\n",
       "<table border=\"1\" class=\"dataframe\">\n",
       "  <thead>\n",
       "    <tr style=\"text-align: right;\">\n",
       "      <th></th>\n",
       "      <th>CRIM</th>\n",
       "      <th>ZN</th>\n",
       "      <th>INDUS</th>\n",
       "      <th>RM</th>\n",
       "      <th>AGE</th>\n",
       "      <th>DIS</th>\n",
       "      <th>RAD</th>\n",
       "      <th>TAX</th>\n",
       "      <th>PTRATIO</th>\n",
       "      <th>PRICE</th>\n",
       "    </tr>\n",
       "  </thead>\n",
       "  <tbody>\n",
       "    <tr>\n",
       "      <th>499</th>\n",
       "      <td>0.17783</td>\n",
       "      <td>0.0</td>\n",
       "      <td>9.69</td>\n",
       "      <td>5.569</td>\n",
       "      <td>73.5</td>\n",
       "      <td>2.3999</td>\n",
       "      <td>6</td>\n",
       "      <td>391</td>\n",
       "      <td>19.2</td>\n",
       "      <td>17.5</td>\n",
       "    </tr>\n",
       "    <tr>\n",
       "      <th>500</th>\n",
       "      <td>0.22438</td>\n",
       "      <td>0.0</td>\n",
       "      <td>9.69</td>\n",
       "      <td>6.027</td>\n",
       "      <td>79.7</td>\n",
       "      <td>2.4982</td>\n",
       "      <td>6</td>\n",
       "      <td>391</td>\n",
       "      <td>19.2</td>\n",
       "      <td>16.8</td>\n",
       "    </tr>\n",
       "    <tr>\n",
       "      <th>501</th>\n",
       "      <td>0.06263</td>\n",
       "      <td>0.0</td>\n",
       "      <td>11.93</td>\n",
       "      <td>6.593</td>\n",
       "      <td>69.1</td>\n",
       "      <td>2.4786</td>\n",
       "      <td>1</td>\n",
       "      <td>273</td>\n",
       "      <td>21.0</td>\n",
       "      <td>22.4</td>\n",
       "    </tr>\n",
       "    <tr>\n",
       "      <th>502</th>\n",
       "      <td>0.04527</td>\n",
       "      <td>0.0</td>\n",
       "      <td>11.93</td>\n",
       "      <td>6.120</td>\n",
       "      <td>76.7</td>\n",
       "      <td>2.2875</td>\n",
       "      <td>1</td>\n",
       "      <td>273</td>\n",
       "      <td>21.0</td>\n",
       "      <td>20.6</td>\n",
       "    </tr>\n",
       "    <tr>\n",
       "      <th>503</th>\n",
       "      <td>0.06076</td>\n",
       "      <td>0.0</td>\n",
       "      <td>11.93</td>\n",
       "      <td>6.976</td>\n",
       "      <td>91.0</td>\n",
       "      <td>2.1675</td>\n",
       "      <td>1</td>\n",
       "      <td>273</td>\n",
       "      <td>21.0</td>\n",
       "      <td>23.9</td>\n",
       "    </tr>\n",
       "    <tr>\n",
       "      <th>504</th>\n",
       "      <td>0.10959</td>\n",
       "      <td>0.0</td>\n",
       "      <td>11.93</td>\n",
       "      <td>6.794</td>\n",
       "      <td>89.3</td>\n",
       "      <td>2.3889</td>\n",
       "      <td>1</td>\n",
       "      <td>273</td>\n",
       "      <td>21.0</td>\n",
       "      <td>22.0</td>\n",
       "    </tr>\n",
       "    <tr>\n",
       "      <th>505</th>\n",
       "      <td>0.04741</td>\n",
       "      <td>0.0</td>\n",
       "      <td>11.93</td>\n",
       "      <td>6.030</td>\n",
       "      <td>80.8</td>\n",
       "      <td>2.5050</td>\n",
       "      <td>1</td>\n",
       "      <td>273</td>\n",
       "      <td>21.0</td>\n",
       "      <td>11.9</td>\n",
       "    </tr>\n",
       "  </tbody>\n",
       "</table>\n",
       "</div>"
      ],
      "text/plain": [
       "        CRIM   ZN  INDUS     RM   AGE     DIS  RAD  TAX  PTRATIO  PRICE\n",
       "499  0.17783  0.0   9.69  5.569  73.5  2.3999    6  391     19.2   17.5\n",
       "500  0.22438  0.0   9.69  6.027  79.7  2.4982    6  391     19.2   16.8\n",
       "501  0.06263  0.0  11.93  6.593  69.1  2.4786    1  273     21.0   22.4\n",
       "502  0.04527  0.0  11.93  6.120  76.7  2.2875    1  273     21.0   20.6\n",
       "503  0.06076  0.0  11.93  6.976  91.0  2.1675    1  273     21.0   23.9\n",
       "504  0.10959  0.0  11.93  6.794  89.3  2.3889    1  273     21.0   22.0\n",
       "505  0.04741  0.0  11.93  6.030  80.8  2.5050    1  273     21.0   11.9"
      ]
     },
     "execution_count": 3,
     "metadata": {},
     "output_type": "execute_result"
    }
   ],
   "source": [
    "#Smaller data frame that does not include CHAS, NOX, B, and LSTAT\n",
    "new_df = boston_df[['CRIM', 'ZN', 'INDUS', 'RM', 'AGE', 'DIS', 'RAD', 'TAX', 'PTRATIO', 'PRICE']]\n",
    "\n",
    "#Checking last 7 records of the new data frame\n",
    "new_df.tail(7)\n"
   ]
  },
  {
   "cell_type": "code",
   "execution_count": 4,
   "metadata": {},
   "outputs": [
    {
     "data": {
      "image/png": "[encoded data removed]",
      "text/plain": [
       "<Figure size 432x288 with 1 Axes>"
      ]
     },
     "metadata": {
      "needs_background": "light"
     },
     "output_type": "display_data"
    },
    {
     "data": {
      "image/png": "[encoded data removed]",
      "text/plain": [
       "<Figure size 432x288 with 1 Axes>"
      ]
     },
     "metadata": {
      "needs_background": "light"
     },
     "output_type": "display_data"
    },
    {
     "data": {
      "image/png": "[encoded data removed]",
      "text/plain": [
       "<Figure size 432x288 with 1 Axes>"
      ]
     },
     "metadata": {
      "needs_background": "light"
     },
     "output_type": "display_data"
    },
    {
     "data": {
      "image/png": "[encoded data removed]",
      "text/plain": [
       "<Figure size 432x288 with 1 Axes>"
      ]
     },
     "metadata": {
      "needs_background": "light"
     },
     "output_type": "display_data"
    },
    {
     "data": {
      "image/png": "[encoded data removed]",
      "text/plain": [
       "<Figure size 432x288 with 1 Axes>"
      ]
     },
     "metadata": {
      "needs_background": "light"
     },
     "output_type": "display_data"
    },
    {
     "data": {
      "image/png": "[encoded data removed]",
      "text/plain": [
       "<Figure size 432x288 with 1 Axes>"
      ]
     },
     "metadata": {
      "needs_background": "light"
     },
     "output_type": "display_data"
    },
    {
     "data": {
      "image/png": "[encoded data removed]",
      "text/plain": [
       "<Figure size 432x288 with 1 Axes>"
      ]
     },
     "metadata": {
      "needs_background": "light"
     },
     "output_type": "display_data"
    },
    {
     "data": {
      "image/png": "[encoded data removed]",
      "text/plain": [
       "<Figure size 432x288 with 1 Axes>"
      ]
     },
     "metadata": {
      "needs_background": "light"
     },
     "output_type": "display_data"
    },
    {
     "data": {
      "image/png": "[encoded data removed]",
      "text/plain": [
       "<Figure size 432x288 with 1 Axes>"
      ]
     },
     "metadata": {
      "needs_background": "light"
     },
     "output_type": "display_data"
    },
    {
     "data": {
      "image/png": "[encoded data removed]",
      "text/plain": [
       "<Figure size 432x288 with 1 Axes>"
      ]
     },
     "metadata": {
      "needs_background": "light"
     },
     "output_type": "display_data"
    }
   ],
   "source": [
    "#Plotting histograms of each column in the new data frame\n",
    "plt.hist(new_df['CRIM'])\n",
    "plt.title('{} histogram'.format('CRIM'))\n",
    "plt.show()\n",
    "\n",
    "plt.hist(new_df['ZN'])\n",
    "plt.title('{} histogram'.format('ZN'))\n",
    "plt.show()\n",
    "\n",
    "plt.hist(new_df['INDUS'])\n",
    "plt.title('{} histogram'.format('INDUS'))\n",
    "plt.show()\n",
    "\n",
    "plt.hist(new_df['RM'])\n",
    "plt.title('{} histogram'.format('RM'))\n",
    "plt.show()\n",
    "\n",
    "plt.hist(new_df['AGE'])\n",
    "plt.title('{} histogram'.format('AGE'))\n",
    "plt.show()\n",
    "\n",
    "plt.hist(new_df['DIS'])\n",
    "plt.title('{} histogram'.format('DIS'))\n",
    "plt.show()\n",
    "\n",
    "plt.hist(new_df['RAD'])\n",
    "plt.title('{} histogram'.format('RAD'))\n",
    "plt.show()\n",
    "\n",
    "plt.hist(new_df['TAX'])\n",
    "plt.title('{} histogram'.format('TAX'))\n",
    "plt.show()\n",
    "\n",
    "plt.hist(new_df['PTRATIO'])\n",
    "plt.title('{} histogram'.format('PTRATIO'))\n",
    "plt.show()\n",
    "\n",
    "plt.hist(new_df['PRICE'])\n",
    "plt.title('{} histogram'.format('PRICE'))\n",
    "plt.show()"
   ]
  },
  {
   "cell_type": "code",
   "execution_count": 5,
   "metadata": {},
   "outputs": [
    {
     "data": {
      "image/png": "[encoded data removed]",
      "text/plain": [
       "<Figure size 432x288 with 1 Axes>"
      ]
     },
     "metadata": {
      "needs_background": "light"
     },
     "output_type": "display_data"
    },
    {
     "data": {
      "image/png": "[encoded data removed]",
      "text/plain": [
       "<Figure size 432x288 with 1 Axes>"
      ]
     },
     "metadata": {
      "needs_background": "light"
     },
     "output_type": "display_data"
    },
    {
     "data": {
      "image/png": "[encoded data removed]",
      "text/plain": [
       "<Figure size 432x288 with 1 Axes>"
      ]
     },
     "metadata": {
      "needs_background": "light"
     },
     "output_type": "display_data"
    },
    {
     "data": {
      "image/png": "[encoded data removed]",
      "text/plain": [
       "<Figure size 432x288 with 1 Axes>"
      ]
     },
     "metadata": {
      "needs_background": "light"
     },
     "output_type": "display_data"
    },
    {
     "data": {
      "image/png": "[encoded data removed]",
      "text/plain": [
       "<Figure size 432x288 with 1 Axes>"
      ]
     },
     "metadata": {
      "needs_background": "light"
     },
     "output_type": "display_data"
    },
    {
     "data": {
      "image/png": "[encoded data removed]",
      "text/plain": [
       "<Figure size 432x288 with 1 Axes>"
      ]
     },
     "metadata": {
      "needs_background": "light"
     },
     "output_type": "display_data"
    },
    {
     "data": {
      "image/png": "[encoded data removed]",
      "text/plain": [
       "<Figure size 432x288 with 1 Axes>"
      ]
     },
     "metadata": {
      "needs_background": "light"
     },
     "output_type": "display_data"
    },
    {
     "data": {
      "image/png": "[encoded data removed]",
      "text/plain": [
       "<Figure size 432x288 with 1 Axes>"
      ]
     },
     "metadata": {
      "needs_background": "light"
     },
     "output_type": "display_data"
    },
    {
     "data": {
      "image/png": "[encoded data removed]",
      "text/plain": [
       "<Figure size 432x288 with 1 Axes>"
      ]
     },
     "metadata": {
      "needs_background": "light"
     },
     "output_type": "display_data"
    },
    {
     "data": {
      "image/png": "[encoded data removed]",
      "text/plain": [
       "<Figure size 432x288 with 1 Axes>"
      ]
     },
     "metadata": {
      "needs_background": "light"
     },
     "output_type": "display_data"
    }
   ],
   "source": [
    "#Plotting histograms of each column all at once using a for loop\n",
    "for names in new_df.columns:\n",
    "    plt.hist(new_df[names])\n",
    "    plt.title('{} histogram'.format(names))\n",
    "    plt.show()"
   ]
  },
  {
   "cell_type": "code",
   "execution_count": 6,
   "metadata": {},
   "outputs": [
    {
     "data": {
      "image/png": "[encoded data removed]",
      "text/plain": [
       "<Figure size 432x288 with 1 Axes>"
      ]
     },
     "metadata": {
      "needs_background": "light"
     },
     "output_type": "display_data"
    }
   ],
   "source": [
    "#Plotting a scatter plot of crime rate versus price\n",
    "plt.scatter(new_df['CRIM'], new_df['PRICE'])\n",
    "plt.title('Scatter plot of crime rate versus price')\n",
    "plt.xlabel('Crime rate')\n",
    "plt.ylabel('Price')\n",
    "plt.show()"
   ]
  },
  {
   "cell_type": "code",
   "execution_count": 7,
   "metadata": {},
   "outputs": [
    {
     "data": {
      "image/png": "[encoded data removed]",
      "text/plain": [
       "<Figure size 432x288 with 1 Axes>"
      ]
     },
     "metadata": {
      "needs_background": "light"
     },
     "output_type": "display_data"
    }
   ],
   "source": [
    "#Plotting log10 of crime versus price\n",
    "plt.scatter(np.log10(new_df['CRIM']), new_df['PRICE'])\n",
    "plt.title('Scatter plot of log10 crime rate versus price')\n",
    "plt.xlabel('Log10 of crime rate')\n",
    "plt.ylabel('Price')\n",
    "plt.show()"
   ]
  },
  {
   "cell_type": "code",
   "execution_count": 8,
   "metadata": {},
   "outputs": [
    {
     "name": "stdout",
     "output_type": "stream",
     "text": [
      "Mean rooms per dwelling: 6.284634387351788\n",
      "Median age: 77.5\n",
      "Mean distance to five Boston employment centers: 3.795042687747034\n",
      "Percent of houses below $20,000: 41.50197628458498\n"
     ]
    }
   ],
   "source": [
    "#Calculating some useful statistics\n",
    "\n",
    "#Mean rooms per dwelling\n",
    "print('Mean rooms per dwelling: {}'.format(new_df['RM'].mean()))\n",
    "\n",
    "#Median age\n",
    "print('Median age: {}'.format(new_df['AGE'].median()))\n",
    "\n",
    "#Mean distances to five Boston employment centers\n",
    "print('Mean distance to five Boston employment centers: {}'.format(new_df['DIS'].mean()))\n",
    "\n",
    "#Percentage of houses below $20,000\n",
    "percent_low = np.mean(new_df['PRICE'] < 20) * 100\n",
    "print('Percent of houses below $20,000: {}'.format(percent_low))"
   ]
  },
  {
   "cell_type": "code",
   "execution_count": 9,
   "metadata": {},
   "outputs": [
    {
     "data": {
      "text/html": [
       "<div>\n",
       "<style scoped>\n",
       "    .dataframe tbody tr th:only-of-type {\n",
       "        vertical-align: middle;\n",
       "    }\n",
       "\n",
       "    .dataframe tbody tr th {\n",
       "        vertical-align: top;\n",
       "    }\n",
       "\n",
       "    .dataframe thead th {\n",
       "        text-align: right;\n",
       "    }\n",
       "</style>\n",
       "<table border=\"1\" class=\"dataframe\">\n",
       "  <thead>\n",
       "    <tr style=\"text-align: right;\">\n",
       "      <th></th>\n",
       "      <th>39</th>\n",
       "      <th>State-gov</th>\n",
       "      <th>77516</th>\n",
       "      <th>Bachelors</th>\n",
       "      <th>13</th>\n",
       "      <th>Never-married</th>\n",
       "      <th>Adm-clerical</th>\n",
       "      <th>Not-in-family</th>\n",
       "      <th>Male</th>\n",
       "      <th>2174</th>\n",
       "      <th>0</th>\n",
       "      <th>40</th>\n",
       "      <th>United-States</th>\n",
       "      <th>&lt;=50K</th>\n",
       "    </tr>\n",
       "  </thead>\n",
       "  <tbody>\n",
       "    <tr>\n",
       "      <th>0</th>\n",
       "      <td>50</td>\n",
       "      <td>Self-emp-not-inc</td>\n",
       "      <td>83311</td>\n",
       "      <td>Bachelors</td>\n",
       "      <td>13</td>\n",
       "      <td>Married-civ-spouse</td>\n",
       "      <td>Exec-managerial</td>\n",
       "      <td>Husband</td>\n",
       "      <td>Male</td>\n",
       "      <td>0</td>\n",
       "      <td>0</td>\n",
       "      <td>13</td>\n",
       "      <td>United-States</td>\n",
       "      <td>&lt;=50K</td>\n",
       "    </tr>\n",
       "    <tr>\n",
       "      <th>1</th>\n",
       "      <td>38</td>\n",
       "      <td>Private</td>\n",
       "      <td>215646</td>\n",
       "      <td>HS-grad</td>\n",
       "      <td>9</td>\n",
       "      <td>Divorced</td>\n",
       "      <td>Handlers-cleaners</td>\n",
       "      <td>Not-in-family</td>\n",
       "      <td>Male</td>\n",
       "      <td>0</td>\n",
       "      <td>0</td>\n",
       "      <td>40</td>\n",
       "      <td>United-States</td>\n",
       "      <td>&lt;=50K</td>\n",
       "    </tr>\n",
       "    <tr>\n",
       "      <th>2</th>\n",
       "      <td>53</td>\n",
       "      <td>Private</td>\n",
       "      <td>234721</td>\n",
       "      <td>11th</td>\n",
       "      <td>7</td>\n",
       "      <td>Married-civ-spouse</td>\n",
       "      <td>Handlers-cleaners</td>\n",
       "      <td>Husband</td>\n",
       "      <td>Male</td>\n",
       "      <td>0</td>\n",
       "      <td>0</td>\n",
       "      <td>40</td>\n",
       "      <td>United-States</td>\n",
       "      <td>&lt;=50K</td>\n",
       "    </tr>\n",
       "    <tr>\n",
       "      <th>3</th>\n",
       "      <td>28</td>\n",
       "      <td>Private</td>\n",
       "      <td>338409</td>\n",
       "      <td>Bachelors</td>\n",
       "      <td>13</td>\n",
       "      <td>Married-civ-spouse</td>\n",
       "      <td>Prof-specialty</td>\n",
       "      <td>Wife</td>\n",
       "      <td>Female</td>\n",
       "      <td>0</td>\n",
       "      <td>0</td>\n",
       "      <td>40</td>\n",
       "      <td>Cuba</td>\n",
       "      <td>&lt;=50K</td>\n",
       "    </tr>\n",
       "    <tr>\n",
       "      <th>4</th>\n",
       "      <td>37</td>\n",
       "      <td>Private</td>\n",
       "      <td>284582</td>\n",
       "      <td>Masters</td>\n",
       "      <td>14</td>\n",
       "      <td>Married-civ-spouse</td>\n",
       "      <td>Exec-managerial</td>\n",
       "      <td>Wife</td>\n",
       "      <td>Female</td>\n",
       "      <td>0</td>\n",
       "      <td>0</td>\n",
       "      <td>40</td>\n",
       "      <td>United-States</td>\n",
       "      <td>&lt;=50K</td>\n",
       "    </tr>\n",
       "  </tbody>\n",
       "</table>\n",
       "</div>"
      ],
      "text/plain": [
       "   39          State-gov   77516   Bachelors  13        Never-married  \\\n",
       "0  50   Self-emp-not-inc   83311   Bachelors  13   Married-civ-spouse   \n",
       "1  38            Private  215646     HS-grad   9             Divorced   \n",
       "2  53            Private  234721        11th   7   Married-civ-spouse   \n",
       "3  28            Private  338409   Bachelors  13   Married-civ-spouse   \n",
       "4  37            Private  284582     Masters  14   Married-civ-spouse   \n",
       "\n",
       "         Adm-clerical   Not-in-family     Male  2174  0  40   United-States  \\\n",
       "0     Exec-managerial         Husband     Male     0  0  13   United-States   \n",
       "1   Handlers-cleaners   Not-in-family     Male     0  0  40   United-States   \n",
       "2   Handlers-cleaners         Husband     Male     0  0  40   United-States   \n",
       "3      Prof-specialty            Wife   Female     0  0  40            Cuba   \n",
       "4     Exec-managerial            Wife   Female     0  0  40   United-States   \n",
       "\n",
       "    <=50K  \n",
       "0   <=50K  \n",
       "1   <=50K  \n",
       "2   <=50K  \n",
       "3   <=50K  \n",
       "4   <=50K  "
      ]
     },
     "execution_count": 9,
     "metadata": {},
     "output_type": "execute_result"
    }
   ],
   "source": [
    "'''\n",
    "Activity 6\n",
    "'''\n",
    "\n",
    "#Loading the necessary libraries\n",
    "import matplotlib.pyplot as plt\n",
    "import numpy as np\n",
    "import pandas as pd\n",
    "\n",
    "#Reading the adult income data frame\n",
    "adult_income_df = pd.read_csv('adult_income_data.csv')\n",
    "adult_income_df.head()"
   ]
  },
  {
   "cell_type": "code",
   "execution_count": 10,
   "metadata": {},
   "outputs": [
    {
     "name": "stdout",
     "output_type": "stream",
     "text": [
      "Column titles: ['age', 'workclass', 'fnlwgt', 'education', 'education-num', 'marital-status', 'occupation', 'relationship', 'sex', 'capital-gain', 'capital-loss', 'hours-per-week', 'native-country']\n"
     ]
    }
   ],
   "source": [
    "#Making a script that will read the text file line by line to obtain the column names\n",
    "with open('adult_income_names.txt', 'r') as fd:\n",
    "    cleaned_titles = []\n",
    "    for line in fd:\n",
    "        #For each line in the file, reads the line, splits it by colon, then takes \n",
    "        #the first element of the split, which is the title, and appends it to an empty list\n",
    "        fd.readline()\n",
    "        split_lines = line.split(':')\n",
    "        name = split_lines[0]\n",
    "        cleaned_titles.append(name)\n",
    "print('Column titles: {}'.format(cleaned_titles))\n",
    "\n",
    "#Adding the name Income to the dataset\n",
    "cleaned_titles.append('Income')"
   ]
  },
  {
   "cell_type": "code",
   "execution_count": 11,
   "metadata": {},
   "outputs": [
    {
     "name": "stdout",
     "output_type": "stream",
     "text": [
      "Missing values for each column: \n",
      "age               0\n",
      "workclass         0\n",
      "fnlwgt            0\n",
      "education         0\n",
      "education-num     0\n",
      "marital-status    0\n",
      "occupation        0\n",
      "relationship      0\n",
      "sex               0\n",
      "capital-gain      0\n",
      "capital-loss      0\n",
      "hours-per-week    0\n",
      "native-country    0\n",
      "Income            0\n",
      "dtype: int64\n"
     ]
    }
   ],
   "source": [
    "#Finding the missing values by first loading only the columns of the cleaned titles, then \n",
    "#using isnull() to find any missing values, then using sum() to add the number of True values\n",
    "short_df = pd.read_csv('adult_income_data.csv', names = cleaned_titles)\n",
    "short_df.head()\n",
    "missing = short_df.isnull()\n",
    "number_of_missing_values = missing.sum()\n",
    "print('Missing values for each column: \\n{}'.format(number_of_missing_values))\n",
    "\n",
    "#Using subsetting to make a data frame of only age, education, and occupation\n",
    "shorter_df = short_df[['age', 'education', 'occupation']]"
   ]
  },
  {
   "cell_type": "code",
   "execution_count": 12,
   "metadata": {},
   "outputs": [
    {
     "data": {
      "text/plain": [
       "Text(0, 0.5, 'Frequency')"
      ]
     },
     "execution_count": 12,
     "metadata": {},
     "output_type": "execute_result"
    },
    {
     "data": {
      "image/png": "[encoded data removed]",
      "text/plain": [
       "<Figure size 432x288 with 1 Axes>"
      ]
     },
     "metadata": {
      "needs_background": "light"
     },
     "output_type": "display_data"
    }
   ],
   "source": [
    "#Plotting a histogram of age with a bin size of 20\n",
    "plt.hist(shorter_df['age'], bins = 20)\n",
    "plt.title('Histogram of age')\n",
    "plt.xlabel('Age')\n",
    "plt.ylabel('Frequency')"
   ]
  },
  {
   "cell_type": "code",
   "execution_count": 13,
   "metadata": {},
   "outputs": [],
   "source": [
    "#Making a function to strip whitespace characters\n",
    "def no_whitespace(string):\n",
    "    return string.strip()"
   ]
  },
  {
   "cell_type": "code",
   "execution_count": 14,
   "metadata": {},
   "outputs": [
    {
     "name": "stderr",
     "output_type": "stream",
     "text": [
      "<ipython-input-14-75b46ac5ff6a>:4: SettingWithCopyWarning: \n",
      "A value is trying to be set on a copy of a slice from a DataFrame.\n",
      "Try using .loc[row_indexer,col_indexer] = value instead\n",
      "\n",
      "See the caveats in the documentation: https://pandas.pydata.org/pandas-docs/stable/user_guide/indexing.html#returning-a-view-versus-a-copy\n",
      "  shorter_df['education_new'] = shorter_df['education'].apply(no_whitespace)\n",
      "<ipython-input-14-75b46ac5ff6a>:5: SettingWithCopyWarning: \n",
      "A value is trying to be set on a copy of a slice from a DataFrame.\n",
      "Try using .loc[row_indexer,col_indexer] = value instead\n",
      "\n",
      "See the caveats in the documentation: https://pandas.pydata.org/pandas-docs/stable/user_guide/indexing.html#returning-a-view-versus-a-copy\n",
      "  shorter_df['education'] = shorter_df['education_new']\n",
      "C:\\Users\\PS3ma\\anaconda3\\lib\\site-packages\\pandas\\core\\frame.py:3990: SettingWithCopyWarning: \n",
      "A value is trying to be set on a copy of a slice from a DataFrame\n",
      "\n",
      "See the caveats in the documentation: https://pandas.pydata.org/pandas-docs/stable/user_guide/indexing.html#returning-a-view-versus-a-copy\n",
      "  return super().drop(\n",
      "<ipython-input-14-75b46ac5ff6a>:8: SettingWithCopyWarning: \n",
      "A value is trying to be set on a copy of a slice from a DataFrame.\n",
      "Try using .loc[row_indexer,col_indexer] = value instead\n",
      "\n",
      "See the caveats in the documentation: https://pandas.pydata.org/pandas-docs/stable/user_guide/indexing.html#returning-a-view-versus-a-copy\n",
      "  shorter_df['occupation_new'] = shorter_df['occupation'].apply(no_whitespace)\n",
      "<ipython-input-14-75b46ac5ff6a>:9: SettingWithCopyWarning: \n",
      "A value is trying to be set on a copy of a slice from a DataFrame.\n",
      "Try using .loc[row_indexer,col_indexer] = value instead\n",
      "\n",
      "See the caveats in the documentation: https://pandas.pydata.org/pandas-docs/stable/user_guide/indexing.html#returning-a-view-versus-a-copy\n",
      "  shorter_df['occupation'] = shorter_df['occupation_new']\n"
     ]
    },
    {
     "data": {
      "text/html": [
       "<div>\n",
       "<style scoped>\n",
       "    .dataframe tbody tr th:only-of-type {\n",
       "        vertical-align: middle;\n",
       "    }\n",
       "\n",
       "    .dataframe tbody tr th {\n",
       "        vertical-align: top;\n",
       "    }\n",
       "\n",
       "    .dataframe thead th {\n",
       "        text-align: right;\n",
       "    }\n",
       "</style>\n",
       "<table border=\"1\" class=\"dataframe\">\n",
       "  <thead>\n",
       "    <tr style=\"text-align: right;\">\n",
       "      <th></th>\n",
       "      <th>age</th>\n",
       "      <th>education</th>\n",
       "      <th>occupation</th>\n",
       "    </tr>\n",
       "  </thead>\n",
       "  <tbody>\n",
       "    <tr>\n",
       "      <th>0</th>\n",
       "      <td>39</td>\n",
       "      <td>Bachelors</td>\n",
       "      <td>Adm-clerical</td>\n",
       "    </tr>\n",
       "    <tr>\n",
       "      <th>1</th>\n",
       "      <td>50</td>\n",
       "      <td>Bachelors</td>\n",
       "      <td>Exec-managerial</td>\n",
       "    </tr>\n",
       "    <tr>\n",
       "      <th>2</th>\n",
       "      <td>38</td>\n",
       "      <td>HS-grad</td>\n",
       "      <td>Handlers-cleaners</td>\n",
       "    </tr>\n",
       "    <tr>\n",
       "      <th>3</th>\n",
       "      <td>53</td>\n",
       "      <td>11th</td>\n",
       "      <td>Handlers-cleaners</td>\n",
       "    </tr>\n",
       "    <tr>\n",
       "      <th>4</th>\n",
       "      <td>28</td>\n",
       "      <td>Bachelors</td>\n",
       "      <td>Prof-specialty</td>\n",
       "    </tr>\n",
       "  </tbody>\n",
       "</table>\n",
       "</div>"
      ],
      "text/plain": [
       "   age  education         occupation\n",
       "0   39  Bachelors       Adm-clerical\n",
       "1   50  Bachelors    Exec-managerial\n",
       "2   38    HS-grad  Handlers-cleaners\n",
       "3   53       11th  Handlers-cleaners\n",
       "4   28  Bachelors     Prof-specialty"
      ]
     },
     "execution_count": 14,
     "metadata": {},
     "output_type": "execute_result"
    }
   ],
   "source": [
    "#Using the apply() method to apply the above function to all string columns and stores the new values into a new column.\n",
    "#The new column is then copied into the old column, and the new column is then deleted. In this case, there are only \n",
    "#two string columns, education and occupation.\n",
    "shorter_df['education_new'] = shorter_df['education'].apply(no_whitespace)\n",
    "shorter_df['education'] = shorter_df['education_new']\n",
    "shorter_df.drop(labels = ['education_new'], axis = 1, inplace = True)\n",
    "\n",
    "shorter_df['occupation_new'] = shorter_df['occupation'].apply(no_whitespace)\n",
    "shorter_df['occupation'] = shorter_df['occupation_new']\n",
    "shorter_df.drop(labels = ['occupation_new'], axis = 1, inplace = True)\n",
    "\n",
    "shorter_df.head()"
   ]
  },
  {
   "cell_type": "code",
   "execution_count": 15,
   "metadata": {},
   "outputs": [
    {
     "name": "stdout",
     "output_type": "stream",
     "text": [
      "Number of ages between 30 and 50: 16390\n"
     ]
    }
   ],
   "source": [
    "#Finding the number of people aged between 30 and 50\n",
    "df_age = shorter_df[(shorter_df['age'] >= 30) & (shorter_df['age'] <= 50)]\n",
    "df_age.head()\n",
    "\n",
    "print('Number of ages between 30 and 50: {}'.format(df_age.shape[0]))"
   ]
  },
  {
   "cell_type": "code",
   "execution_count": 16,
   "metadata": {},
   "outputs": [
    {
     "data": {
      "text/html": [
       "<div>\n",
       "<style scoped>\n",
       "    .dataframe tbody tr th:only-of-type {\n",
       "        vertical-align: middle;\n",
       "    }\n",
       "\n",
       "    .dataframe tbody tr th {\n",
       "        vertical-align: top;\n",
       "    }\n",
       "\n",
       "    .dataframe thead tr th {\n",
       "        text-align: left;\n",
       "    }\n",
       "\n",
       "    .dataframe thead tr:last-of-type th {\n",
       "        text-align: right;\n",
       "    }\n",
       "</style>\n",
       "<table border=\"1\" class=\"dataframe\">\n",
       "  <thead>\n",
       "    <tr>\n",
       "      <th></th>\n",
       "      <th colspan=\"8\" halign=\"left\">age</th>\n",
       "    </tr>\n",
       "    <tr>\n",
       "      <th></th>\n",
       "      <th>count</th>\n",
       "      <th>mean</th>\n",
       "      <th>std</th>\n",
       "      <th>min</th>\n",
       "      <th>25%</th>\n",
       "      <th>50%</th>\n",
       "      <th>75%</th>\n",
       "      <th>max</th>\n",
       "    </tr>\n",
       "    <tr>\n",
       "      <th>education</th>\n",
       "      <th></th>\n",
       "      <th></th>\n",
       "      <th></th>\n",
       "      <th></th>\n",
       "      <th></th>\n",
       "      <th></th>\n",
       "      <th></th>\n",
       "      <th></th>\n",
       "    </tr>\n",
       "  </thead>\n",
       "  <tbody>\n",
       "    <tr>\n",
       "      <th>10th</th>\n",
       "      <td>933.0</td>\n",
       "      <td>37.429796</td>\n",
       "      <td>16.720713</td>\n",
       "      <td>17.0</td>\n",
       "      <td>22.00</td>\n",
       "      <td>34.0</td>\n",
       "      <td>52.0</td>\n",
       "      <td>90.0</td>\n",
       "    </tr>\n",
       "    <tr>\n",
       "      <th>11th</th>\n",
       "      <td>1175.0</td>\n",
       "      <td>32.355745</td>\n",
       "      <td>15.545485</td>\n",
       "      <td>17.0</td>\n",
       "      <td>18.00</td>\n",
       "      <td>28.0</td>\n",
       "      <td>43.0</td>\n",
       "      <td>90.0</td>\n",
       "    </tr>\n",
       "    <tr>\n",
       "      <th>12th</th>\n",
       "      <td>433.0</td>\n",
       "      <td>32.000000</td>\n",
       "      <td>14.334625</td>\n",
       "      <td>17.0</td>\n",
       "      <td>19.00</td>\n",
       "      <td>28.0</td>\n",
       "      <td>41.0</td>\n",
       "      <td>79.0</td>\n",
       "    </tr>\n",
       "    <tr>\n",
       "      <th>1st-4th</th>\n",
       "      <td>168.0</td>\n",
       "      <td>46.142857</td>\n",
       "      <td>15.615625</td>\n",
       "      <td>19.0</td>\n",
       "      <td>33.00</td>\n",
       "      <td>46.0</td>\n",
       "      <td>57.0</td>\n",
       "      <td>90.0</td>\n",
       "    </tr>\n",
       "    <tr>\n",
       "      <th>5th-6th</th>\n",
       "      <td>333.0</td>\n",
       "      <td>42.885886</td>\n",
       "      <td>15.557285</td>\n",
       "      <td>17.0</td>\n",
       "      <td>29.00</td>\n",
       "      <td>42.0</td>\n",
       "      <td>54.0</td>\n",
       "      <td>84.0</td>\n",
       "    </tr>\n",
       "    <tr>\n",
       "      <th>7th-8th</th>\n",
       "      <td>646.0</td>\n",
       "      <td>48.445820</td>\n",
       "      <td>16.092350</td>\n",
       "      <td>17.0</td>\n",
       "      <td>34.25</td>\n",
       "      <td>50.0</td>\n",
       "      <td>61.0</td>\n",
       "      <td>90.0</td>\n",
       "    </tr>\n",
       "    <tr>\n",
       "      <th>9th</th>\n",
       "      <td>514.0</td>\n",
       "      <td>41.060311</td>\n",
       "      <td>15.946862</td>\n",
       "      <td>17.0</td>\n",
       "      <td>28.00</td>\n",
       "      <td>39.0</td>\n",
       "      <td>54.0</td>\n",
       "      <td>90.0</td>\n",
       "    </tr>\n",
       "    <tr>\n",
       "      <th>Assoc-acdm</th>\n",
       "      <td>1067.0</td>\n",
       "      <td>37.381443</td>\n",
       "      <td>11.095177</td>\n",
       "      <td>19.0</td>\n",
       "      <td>29.00</td>\n",
       "      <td>36.0</td>\n",
       "      <td>44.0</td>\n",
       "      <td>90.0</td>\n",
       "    </tr>\n",
       "    <tr>\n",
       "      <th>Assoc-voc</th>\n",
       "      <td>1382.0</td>\n",
       "      <td>38.553546</td>\n",
       "      <td>11.631300</td>\n",
       "      <td>19.0</td>\n",
       "      <td>30.00</td>\n",
       "      <td>37.0</td>\n",
       "      <td>46.0</td>\n",
       "      <td>84.0</td>\n",
       "    </tr>\n",
       "    <tr>\n",
       "      <th>Bachelors</th>\n",
       "      <td>5355.0</td>\n",
       "      <td>38.904949</td>\n",
       "      <td>11.912210</td>\n",
       "      <td>19.0</td>\n",
       "      <td>29.00</td>\n",
       "      <td>37.0</td>\n",
       "      <td>46.0</td>\n",
       "      <td>90.0</td>\n",
       "    </tr>\n",
       "    <tr>\n",
       "      <th>Doctorate</th>\n",
       "      <td>413.0</td>\n",
       "      <td>47.702179</td>\n",
       "      <td>11.784716</td>\n",
       "      <td>24.0</td>\n",
       "      <td>39.00</td>\n",
       "      <td>47.0</td>\n",
       "      <td>55.0</td>\n",
       "      <td>80.0</td>\n",
       "    </tr>\n",
       "    <tr>\n",
       "      <th>HS-grad</th>\n",
       "      <td>10501.0</td>\n",
       "      <td>38.974479</td>\n",
       "      <td>13.541524</td>\n",
       "      <td>17.0</td>\n",
       "      <td>28.00</td>\n",
       "      <td>37.0</td>\n",
       "      <td>48.0</td>\n",
       "      <td>90.0</td>\n",
       "    </tr>\n",
       "    <tr>\n",
       "      <th>Masters</th>\n",
       "      <td>1723.0</td>\n",
       "      <td>44.049913</td>\n",
       "      <td>11.068935</td>\n",
       "      <td>18.0</td>\n",
       "      <td>36.00</td>\n",
       "      <td>43.0</td>\n",
       "      <td>51.0</td>\n",
       "      <td>90.0</td>\n",
       "    </tr>\n",
       "    <tr>\n",
       "      <th>Preschool</th>\n",
       "      <td>51.0</td>\n",
       "      <td>42.764706</td>\n",
       "      <td>15.126914</td>\n",
       "      <td>19.0</td>\n",
       "      <td>31.00</td>\n",
       "      <td>41.0</td>\n",
       "      <td>53.5</td>\n",
       "      <td>75.0</td>\n",
       "    </tr>\n",
       "    <tr>\n",
       "      <th>Prof-school</th>\n",
       "      <td>576.0</td>\n",
       "      <td>44.746528</td>\n",
       "      <td>11.962477</td>\n",
       "      <td>25.0</td>\n",
       "      <td>36.00</td>\n",
       "      <td>43.0</td>\n",
       "      <td>51.0</td>\n",
       "      <td>90.0</td>\n",
       "    </tr>\n",
       "    <tr>\n",
       "      <th>Some-college</th>\n",
       "      <td>7291.0</td>\n",
       "      <td>35.756275</td>\n",
       "      <td>13.474051</td>\n",
       "      <td>17.0</td>\n",
       "      <td>24.00</td>\n",
       "      <td>34.0</td>\n",
       "      <td>45.0</td>\n",
       "      <td>90.0</td>\n",
       "    </tr>\n",
       "  </tbody>\n",
       "</table>\n",
       "</div>"
      ],
      "text/plain": [
       "                  age                                                     \n",
       "                count       mean        std   min    25%   50%   75%   max\n",
       "education                                                                 \n",
       "10th            933.0  37.429796  16.720713  17.0  22.00  34.0  52.0  90.0\n",
       "11th           1175.0  32.355745  15.545485  17.0  18.00  28.0  43.0  90.0\n",
       "12th            433.0  32.000000  14.334625  17.0  19.00  28.0  41.0  79.0\n",
       "1st-4th         168.0  46.142857  15.615625  19.0  33.00  46.0  57.0  90.0\n",
       "5th-6th         333.0  42.885886  15.557285  17.0  29.00  42.0  54.0  84.0\n",
       "7th-8th         646.0  48.445820  16.092350  17.0  34.25  50.0  61.0  90.0\n",
       "9th             514.0  41.060311  15.946862  17.0  28.00  39.0  54.0  90.0\n",
       "Assoc-acdm     1067.0  37.381443  11.095177  19.0  29.00  36.0  44.0  90.0\n",
       "Assoc-voc      1382.0  38.553546  11.631300  19.0  30.00  37.0  46.0  84.0\n",
       "Bachelors      5355.0  38.904949  11.912210  19.0  29.00  37.0  46.0  90.0\n",
       "Doctorate       413.0  47.702179  11.784716  24.0  39.00  47.0  55.0  80.0\n",
       "HS-grad       10501.0  38.974479  13.541524  17.0  28.00  37.0  48.0  90.0\n",
       "Masters        1723.0  44.049913  11.068935  18.0  36.00  43.0  51.0  90.0\n",
       "Preschool        51.0  42.764706  15.126914  19.0  31.00  41.0  53.5  75.0\n",
       "Prof-school     576.0  44.746528  11.962477  25.0  36.00  43.0  51.0  90.0\n",
       "Some-college   7291.0  35.756275  13.474051  17.0  24.00  34.0  45.0  90.0"
      ]
     },
     "execution_count": 16,
     "metadata": {},
     "output_type": "execute_result"
    }
   ],
   "source": [
    "#Grouping the records based on age and education to find out how the mean age is distributed\n",
    "\n",
    "shorter_df.groupby('age').describe()\n",
    "shorter_df.groupby('education').describe()"
   ]
  },
  {
   "cell_type": "code",
   "execution_count": 17,
   "metadata": {},
   "outputs": [
    {
     "name": "stdout",
     "output_type": "stream",
     "text": [
      "a    5.2\n",
      "c    1.1\n",
      "d    NaN\n",
      "e    0.0\n",
      "f    NaN\n",
      "g    NaN\n",
      "dtype: float64\n",
      "a    9.4\n",
      "c   -6.1\n",
      "d    NaN\n",
      "e    3.0\n",
      "f    NaN\n",
      "g    NaN\n",
      "dtype: float64\n"
     ]
    }
   ],
   "source": [
    "#Generating two series with the specified indices\n",
    "series_1 = pd.Series([7.3, -2.5, 3.4, 1.5], index = ['a', 'c', 'd', 'e'])\n",
    "\n",
    "series_2 = pd.Series([-2.1, 3.6, -1.5, 4, 3.1], index = ['a', 'c', 'e', 'f', 'g'])\n",
    "\n",
    "#Adding and subtracting the two series\n",
    "print(series_1 + series_2)\n",
    "print(series_1 - series_2)\n"
   ]
  }
 ],
 "metadata": {
  "kernelspec": {
   "display_name": "Python 3",
   "language": "python",
   "name": "python3"
  },
  "language_info": {
   "codemirror_mode": {
    "name": "ipython",
    "version": 3
   },
   "file_extension": ".py",
   "mimetype": "text/x-python",
   "name": "python",
   "nbconvert_exporter": "python",
   "pygments_lexer": "ipython3",
   "version": "3.8.3"
  }
 },
 "nbformat": 4,
 "nbformat_minor": 4
}
